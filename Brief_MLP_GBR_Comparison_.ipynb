{
  "nbformat": 4,
  "nbformat_minor": 0,
  "metadata": {
    "colab": {
      "name": "Brief MLP GBR Comparison.ipynb",
      "provenance": []
    },
    "kernelspec": {
      "name": "python3",
      "display_name": "Python 3"
    }
  },
  "cells": [
    {
      "cell_type": "markdown",
      "metadata": {
        "id": "UZwynosUhOGc",
        "colab_type": "text"
      },
      "source": [
        "In the following cells, you will witness 2 models created with the goal of making predictions and providing information regarding the League of Legends dataset discussed in the Read Me. \n",
        "\n",
        "There are 4 sections:\n",
        "  1. Library Importing & Creating Data Objects\n",
        "  2. Gradient Boosting Classifier Model\n",
        "  3. Deep Net Model\n",
        "  4. Scoring & Comparison Notes\n",
        "\n",
        "IN CASE YOU MISSED IT:\n",
        "\n",
        "You can also check out the first 45 seconds of this video to get a brief look at the game and how complex it is.\n",
        "\n",
        "https://www.youtube.com/watch?v=mwERJ6qJPuc\n",
        "\n",
        "Context\n",
        "\n",
        "League of Legends is a MOBA (multiplayer online battle arena) where 2 teams (blue and red) face off. There are 3 lanes, a jungle, and 5 roles. The goal is to take down the enemy Nexus to win the game.\n",
        "\n",
        "Content\n",
        "\n",
        "This dataset contains the first 10min. stats of approx. 10k ranked games (SOLO QUEUE) from a high ELO (DIAMOND I to MASTER). Players have roughly the same level.\n",
        "\n",
        "Glossary\n",
        "\n",
        "Minions: NPC that belong to both teams. They give gold when killed by players.\n",
        "\n",
        "Jungle minions: NPC that belong to NO TEAM. They give gold and buffs when killed by players.\n",
        "\n",
        "I'll be comparing GradientBoostingClassifer to a Deep Net with 2 hidden layers each with seventy neurons, one neuron in the output layer, and other specifications that I tuned for using GridSearchCV outside this notebook. "
      ]
    },
    {
      "cell_type": "markdown",
      "metadata": {
        "id": "Qp8ImPLBvD3t",
        "colab_type": "text"
      },
      "source": [
        "Importing Libraries"
      ]
    },
    {
      "cell_type": "code",
      "metadata": {
        "id": "I-pT2VQyhLpZ",
        "colab_type": "code",
        "colab": {
          "resources": {
            "http://localhost:8080/nbextensions/google.colab/files.js": {
              "data": "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",
              "ok": true,
              "headers": [
                [
                  "content-type",
                  "application/javascript"
                ]
              ],
              "status": 200,
              "status_text": ""
            }
          },
          "base_uri": "https://localhost:8080/",
          "height": 102
        },
        "outputId": "2c7c9195-7919-404b-c576-3d3dda2ce8de"
      },
      "source": [
        "# Importing Libraries \n",
        "import warnings\n",
        "warnings.filterwarnings(\"ignore\")\n",
        "import numpy as np\n",
        "import pandas as pd\n",
        "import matplotlib.pyplot as plt\n",
        "import io\n",
        "import tensorflow as tf\n",
        "from tensorflow import keras\n",
        "from sklearn.preprocessing import StandardScaler\n",
        "from keras.wrappers.scikit_learn import KerasClassifier\n",
        "from sklearn.model_selection import train_test_split, GridSearchCV, cross_val_score\n",
        "from tensorflow.keras.models import Sequential \n",
        "from tensorflow.keras.layers import Dense, Dropout, AlphaDropout\n",
        "from sklearn.metrics import confusion_matrix, classification_report\n",
        "from keras.constraints import maxnorm\n",
        "from yellowbrick.classifier import ROCAUC\n",
        "from sklearn.metrics import roc_curve, auc\n",
        "import datetime, os\n",
        "from sklearn.ensemble import GradientBoostingClassifier\n",
        "from sklearn.pipeline import Pipeline\n",
        "\n",
        "# Uploading data\n",
        "from google.colab import files\n",
        "uploaded = files.upload()\n",
        "%load_ext tensorboard"
      ],
      "execution_count": 62,
      "outputs": [
        {
          "output_type": "display_data",
          "data": {
            "text/html": [
              "\n",
              "     <input type=\"file\" id=\"files-fd000979-7a95-4340-88ab-390986bd6637\" name=\"files[]\" multiple disabled\n",
              "        style=\"border:none\" />\n",
              "     <output id=\"result-fd000979-7a95-4340-88ab-390986bd6637\">\n",
              "      Upload widget is only available when the cell has been executed in the\n",
              "      current browser session. Please rerun this cell to enable.\n",
              "      </output>\n",
              "      <script src=\"/nbextensions/google.colab/files.js\"></script> "
            ],
            "text/plain": [
              "<IPython.core.display.HTML object>"
            ]
          },
          "metadata": {
            "tags": []
          }
        },
        {
          "output_type": "stream",
          "text": [
            "Saving data_chi3_anova9.csv to data_chi3_anova9 (5).csv\n",
            "The tensorboard extension is already loaded. To reload it, use:\n",
            "  %reload_ext tensorboard\n"
          ],
          "name": "stdout"
        }
      ]
    },
    {
      "cell_type": "markdown",
      "metadata": {
        "id": "R0NbS4fKvGTs",
        "colab_type": "text"
      },
      "source": [
        "Uploading and creating Data Objects"
      ]
    },
    {
      "cell_type": "code",
      "metadata": {
        "id": "6-XQlmhzuWgW",
        "colab_type": "code",
        "colab": {}
      },
      "source": [
        "df = pd.read_csv(io.BytesIO(uploaded['data_chi3_anova9.csv']))\n",
        "X = df.iloc[:, 3:]\n",
        "scaler = StandardScaler()\n",
        "X_stand = scaler.fit_transform(X)\n",
        "X_df = pd.DataFrame(X_stand, columns=X.columns)\n",
        "y = df.iloc[:, 2:3]\n",
        "X_train, X_test, y_train, y_test = train_test_split(X, y, test_size=.2)"
      ],
      "execution_count": 63,
      "outputs": []
    },
    {
      "cell_type": "code",
      "metadata": {
        "id": "EEX80dbFvWQS",
        "colab_type": "code",
        "colab": {
          "base_uri": "https://localhost:8080/",
          "height": 391
        },
        "outputId": "535047b7-883b-44b3-9ecf-ad427f27f328"
      },
      "source": [
        "X"
      ],
      "execution_count": 64,
      "outputs": [
        {
          "output_type": "execute_result",
          "data": {
            "text/html": [
              "<div>\n",
              "<style scoped>\n",
              "    .dataframe tbody tr th:only-of-type {\n",
              "        vertical-align: middle;\n",
              "    }\n",
              "\n",
              "    .dataframe tbody tr th {\n",
              "        vertical-align: top;\n",
              "    }\n",
              "\n",
              "    .dataframe thead th {\n",
              "        text-align: right;\n",
              "    }\n",
              "</style>\n",
              "<table border=\"1\" class=\"dataframe\">\n",
              "  <thead>\n",
              "    <tr style=\"text-align: right;\">\n",
              "      <th></th>\n",
              "      <th>bluegolddiff</th>\n",
              "      <th>blueexperiencediff</th>\n",
              "      <th>bluegoldpermin</th>\n",
              "      <th>bluetotalexperience</th>\n",
              "      <th>bteamtotminionsdiff</th>\n",
              "      <th>blaneminions_diff</th>\n",
              "      <th>bluetotalgold</th>\n",
              "    </tr>\n",
              "  </thead>\n",
              "  <tbody>\n",
              "    <tr>\n",
              "      <th>0</th>\n",
              "      <td>643</td>\n",
              "      <td>-8</td>\n",
              "      <td>1721.0</td>\n",
              "      <td>17039</td>\n",
              "      <td>-21</td>\n",
              "      <td>-2</td>\n",
              "      <td>17210</td>\n",
              "    </tr>\n",
              "    <tr>\n",
              "      <th>1</th>\n",
              "      <td>-2908</td>\n",
              "      <td>-1173</td>\n",
              "      <td>1471.2</td>\n",
              "      <td>16265</td>\n",
              "      <td>-79</td>\n",
              "      <td>-66</td>\n",
              "      <td>14712</td>\n",
              "    </tr>\n",
              "    <tr>\n",
              "      <th>2</th>\n",
              "      <td>-1172</td>\n",
              "      <td>-1033</td>\n",
              "      <td>1611.3</td>\n",
              "      <td>16221</td>\n",
              "      <td>3</td>\n",
              "      <td>-17</td>\n",
              "      <td>16113</td>\n",
              "    </tr>\n",
              "    <tr>\n",
              "      <th>3</th>\n",
              "      <td>-1321</td>\n",
              "      <td>-7</td>\n",
              "      <td>1515.7</td>\n",
              "      <td>17954</td>\n",
              "      <td>-24</td>\n",
              "      <td>-34</td>\n",
              "      <td>15157</td>\n",
              "    </tr>\n",
              "    <tr>\n",
              "      <th>4</th>\n",
              "      <td>-1004</td>\n",
              "      <td>230</td>\n",
              "      <td>1640.0</td>\n",
              "      <td>18543</td>\n",
              "      <td>-27</td>\n",
              "      <td>-15</td>\n",
              "      <td>16400</td>\n",
              "    </tr>\n",
              "    <tr>\n",
              "      <th>...</th>\n",
              "      <td>...</td>\n",
              "      <td>...</td>\n",
              "      <td>...</td>\n",
              "      <td>...</td>\n",
              "      <td>...</td>\n",
              "      <td>...</td>\n",
              "      <td>...</td>\n",
              "    </tr>\n",
              "    <tr>\n",
              "      <th>9874</th>\n",
              "      <td>2519</td>\n",
              "      <td>2469</td>\n",
              "      <td>1776.5</td>\n",
              "      <td>18967</td>\n",
              "      <td>19</td>\n",
              "      <td>-18</td>\n",
              "      <td>17765</td>\n",
              "    </tr>\n",
              "    <tr>\n",
              "      <th>9875</th>\n",
              "      <td>782</td>\n",
              "      <td>888</td>\n",
              "      <td>1623.8</td>\n",
              "      <td>19255</td>\n",
              "      <td>21</td>\n",
              "      <td>27</td>\n",
              "      <td>16238</td>\n",
              "    </tr>\n",
              "    <tr>\n",
              "      <th>9876</th>\n",
              "      <td>-2416</td>\n",
              "      <td>-1877</td>\n",
              "      <td>1590.3</td>\n",
              "      <td>18032</td>\n",
              "      <td>-68</td>\n",
              "      <td>-51</td>\n",
              "      <td>15903</td>\n",
              "    </tr>\n",
              "    <tr>\n",
              "      <th>9877</th>\n",
              "      <td>-839</td>\n",
              "      <td>-1085</td>\n",
              "      <td>1445.9</td>\n",
              "      <td>17229</td>\n",
              "      <td>-13</td>\n",
              "      <td>-23</td>\n",
              "      <td>14459</td>\n",
              "    </tr>\n",
              "    <tr>\n",
              "      <th>9878</th>\n",
              "      <td>927</td>\n",
              "      <td>-58</td>\n",
              "      <td>1626.6</td>\n",
              "      <td>17321</td>\n",
              "      <td>2</td>\n",
              "      <td>6</td>\n",
              "      <td>16266</td>\n",
              "    </tr>\n",
              "  </tbody>\n",
              "</table>\n",
              "<p>9879 rows × 7 columns</p>\n",
              "</div>"
            ],
            "text/plain": [
              "      bluegolddiff  blueexperiencediff  ...  blaneminions_diff  bluetotalgold\n",
              "0              643                  -8  ...                 -2          17210\n",
              "1            -2908               -1173  ...                -66          14712\n",
              "2            -1172               -1033  ...                -17          16113\n",
              "3            -1321                  -7  ...                -34          15157\n",
              "4            -1004                 230  ...                -15          16400\n",
              "...            ...                 ...  ...                ...            ...\n",
              "9874          2519                2469  ...                -18          17765\n",
              "9875           782                 888  ...                 27          16238\n",
              "9876         -2416               -1877  ...                -51          15903\n",
              "9877          -839               -1085  ...                -23          14459\n",
              "9878           927                 -58  ...                  6          16266\n",
              "\n",
              "[9879 rows x 7 columns]"
            ]
          },
          "metadata": {
            "tags": []
          },
          "execution_count": 64
        }
      ]
    },
    {
      "cell_type": "code",
      "metadata": {
        "id": "srPOaJRuvZfQ",
        "colab_type": "code",
        "colab": {
          "base_uri": "https://localhost:8080/",
          "height": 391
        },
        "outputId": "2eb43fd8-b69c-4a5f-97b9-62718584070b"
      },
      "source": [
        "y"
      ],
      "execution_count": 65,
      "outputs": [
        {
          "output_type": "execute_result",
          "data": {
            "text/html": [
              "<div>\n",
              "<style scoped>\n",
              "    .dataframe tbody tr th:only-of-type {\n",
              "        vertical-align: middle;\n",
              "    }\n",
              "\n",
              "    .dataframe tbody tr th {\n",
              "        vertical-align: top;\n",
              "    }\n",
              "\n",
              "    .dataframe thead th {\n",
              "        text-align: right;\n",
              "    }\n",
              "</style>\n",
              "<table border=\"1\" class=\"dataframe\">\n",
              "  <thead>\n",
              "    <tr style=\"text-align: right;\">\n",
              "      <th></th>\n",
              "      <th>bluewins</th>\n",
              "    </tr>\n",
              "  </thead>\n",
              "  <tbody>\n",
              "    <tr>\n",
              "      <th>0</th>\n",
              "      <td>0</td>\n",
              "    </tr>\n",
              "    <tr>\n",
              "      <th>1</th>\n",
              "      <td>0</td>\n",
              "    </tr>\n",
              "    <tr>\n",
              "      <th>2</th>\n",
              "      <td>0</td>\n",
              "    </tr>\n",
              "    <tr>\n",
              "      <th>3</th>\n",
              "      <td>0</td>\n",
              "    </tr>\n",
              "    <tr>\n",
              "      <th>4</th>\n",
              "      <td>0</td>\n",
              "    </tr>\n",
              "    <tr>\n",
              "      <th>...</th>\n",
              "      <td>...</td>\n",
              "    </tr>\n",
              "    <tr>\n",
              "      <th>9874</th>\n",
              "      <td>1</td>\n",
              "    </tr>\n",
              "    <tr>\n",
              "      <th>9875</th>\n",
              "      <td>1</td>\n",
              "    </tr>\n",
              "    <tr>\n",
              "      <th>9876</th>\n",
              "      <td>0</td>\n",
              "    </tr>\n",
              "    <tr>\n",
              "      <th>9877</th>\n",
              "      <td>0</td>\n",
              "    </tr>\n",
              "    <tr>\n",
              "      <th>9878</th>\n",
              "      <td>1</td>\n",
              "    </tr>\n",
              "  </tbody>\n",
              "</table>\n",
              "<p>9879 rows × 1 columns</p>\n",
              "</div>"
            ],
            "text/plain": [
              "      bluewins\n",
              "0            0\n",
              "1            0\n",
              "2            0\n",
              "3            0\n",
              "4            0\n",
              "...        ...\n",
              "9874         1\n",
              "9875         1\n",
              "9876         0\n",
              "9877         0\n",
              "9878         1\n",
              "\n",
              "[9879 rows x 1 columns]"
            ]
          },
          "metadata": {
            "tags": []
          },
          "execution_count": 65
        }
      ]
    },
    {
      "cell_type": "markdown",
      "metadata": {
        "id": "H50yWTwAG9of",
        "colab_type": "text"
      },
      "source": [
        "Creating First model GradientBoostingClassifier which will be abbreviated going forward as GBC."
      ]
    },
    {
      "cell_type": "code",
      "metadata": {
        "id": "-5z2u6fEvNdy",
        "colab_type": "code",
        "colab": {
          "base_uri": "https://localhost:8080/",
          "height": 180
        },
        "outputId": "1a6f0a1b-3776-4389-ba7c-961ba8173894"
      },
      "source": [
        "gbc_tuned = GradientBoostingClassifier(learning_rate=0.01, n_estimators=300,\n",
        "                                       subsample=0.1, min_samples_leaf=2,\n",
        "                                       min_samples_split=2, max_depth=4,\n",
        "                                       max_features=6, min_impurity_decrease=0.1)\n",
        "gbc_tuned.fit(X_train, y_train)"
      ],
      "execution_count": 66,
      "outputs": [
        {
          "output_type": "execute_result",
          "data": {
            "text/plain": [
              "GradientBoostingClassifier(ccp_alpha=0.0, criterion='friedman_mse', init=None,\n",
              "                           learning_rate=0.01, loss='deviance', max_depth=4,\n",
              "                           max_features=6, max_leaf_nodes=None,\n",
              "                           min_impurity_decrease=0.1, min_impurity_split=None,\n",
              "                           min_samples_leaf=2, min_samples_split=2,\n",
              "                           min_weight_fraction_leaf=0.0, n_estimators=300,\n",
              "                           n_iter_no_change=None, presort='deprecated',\n",
              "                           random_state=None, subsample=0.1, tol=0.0001,\n",
              "                           validation_fraction=0.1, verbose=0,\n",
              "                           warm_start=False)"
            ]
          },
          "metadata": {
            "tags": []
          },
          "execution_count": 66
        }
      ]
    },
    {
      "cell_type": "code",
      "metadata": {
        "id": "RX6EbimKvf6o",
        "colab_type": "code",
        "colab": {}
      },
      "source": [
        "# we are making predictions here\n",
        "y_preds_train = gbc_tuned.predict(X_train)\n",
        "y_preds_test = gbc_tuned.predict(X_test)"
      ],
      "execution_count": 67,
      "outputs": []
    },
    {
      "cell_type": "markdown",
      "metadata": {
        "id": "WZSH9okyyewU",
        "colab_type": "text"
      },
      "source": [
        "The below plot is important because it gives us some insight into the relative \"importance\" of a single feature's weight on the outcome of a game. This is a distinct advantage because of the \"black-box\" problem inherent with deep learning. "
      ]
    },
    {
      "cell_type": "code",
      "metadata": {
        "id": "lS9I0nhwvhVZ",
        "colab_type": "code",
        "colab": {
          "base_uri": "https://localhost:8080/",
          "height": 310
        },
        "outputId": "d6df3862-49d7-46c6-f7a4-9fca7f586ffe"
      },
      "source": [
        "feature_importance = gbc_tuned.feature_importances_\n",
        "# make importances relative to max importance\n",
        "feature_importance = 100.0 * (feature_importance / feature_importance.max())\n",
        "sorted_idx = np.argsort(feature_importance)\n",
        "pos = np.arange(sorted_idx.shape[0]) + .5\n",
        "plt.subplot(1, 2, 2)\n",
        "plt.barh(pos, feature_importance[sorted_idx], align='center')\n",
        "plt.yticks(pos, X.columns[sorted_idx])\n",
        "plt.xlabel('Relative Importance')\n",
        "plt.title('Variable Importance')"
      ],
      "execution_count": 68,
      "outputs": [
        {
          "output_type": "execute_result",
          "data": {
            "text/plain": [
              "Text(0.5, 1.0, 'Variable Importance')"
            ]
          },
          "metadata": {
            "tags": []
          },
          "execution_count": 68
        },
        {
          "output_type": "display_data",
          "data": {
            "image/png": "[encoded data removed]",
            "text/plain": [
              "<Figure size 432x288 with 1 Axes>"
            ]
          },
          "metadata": {
            "tags": [],
            "needs_background": "light"
          }
        }
      ]
    },
    {
      "cell_type": "markdown",
      "metadata": {
        "id": "x2uXhdIPFFvI",
        "colab_type": "text"
      },
      "source": [
        "Deep Net Construction noted as MLP going forward"
      ]
    },
    {
      "cell_type": "code",
      "metadata": {
        "id": "UtlFTlCJv0JI",
        "colab_type": "code",
        "colab": {
          "base_uri": "https://localhost:8080/",
          "height": 1000
        },
        "outputId": "922e282c-3571-43e4-d1a1-70cd663d2f24"
      },
      "source": [
        "def build_mlp():\n",
        "  model = keras.Sequential([keras.layers.Dense(70, input_shape=(None, 7), kernel_initializer='glorot_normal',\n",
        "                                               activation='sigmoid',),\n",
        "                            keras.layers.Dense(70, activation='selu', kernel_initializer='normal'),\n",
        "                            keras.layers.Dense(1, activation='sigmoid', kernel_initializer='he_normal')])\n",
        "  optomizer = tf.keras.optimizers.RMSprop(learning_rate=0.001, momentum=0.1)\n",
        "  model.compile(optimizer=optomizer, loss='binary_crossentropy', metrics=['accuracy'])\n",
        "  return model\n",
        "\n",
        "mlp_model = build_mlp()\n",
        "mlp_model.fit(X_train, y_train, batch_size=15, epochs=100, verbose=1)\n",
        "\n",
        "y_mlp = mlp_model.predict(X_test).ravel()"
      ],
      "execution_count": 69,
      "outputs": [
        {
          "output_type": "stream",
          "text": [
            "Epoch 1/100\n",
            "WARNING:tensorflow:Model was constructed with shape (None, None, 7) for input Tensor(\"dense_12_input:0\", shape=(None, None, 7), dtype=float32), but it was called on an input with incompatible shape (None, 7).\n",
            "WARNING:tensorflow:Model was constructed with shape (None, None, 7) for input Tensor(\"dense_12_input:0\", shape=(None, None, 7), dtype=float32), but it was called on an input with incompatible shape (None, 7).\n",
            "527/527 [==============================] - 1s 1ms/step - loss: 0.5871 - accuracy: 0.6813\n",
            "Epoch 2/100\n",
            "527/527 [==============================] - 1s 1ms/step - loss: 0.5565 - accuracy: 0.7123\n",
            "Epoch 3/100\n",
            "527/527 [==============================] - 1s 1ms/step - loss: 0.5608 - accuracy: 0.7176\n",
            "Epoch 4/100\n",
            "527/527 [==============================] - 1s 1ms/step - loss: 0.5585 - accuracy: 0.7209\n",
            "Epoch 5/100\n",
            "527/527 [==============================] - 1s 1ms/step - loss: 0.5559 - accuracy: 0.7205\n",
            "Epoch 6/100\n",
            "527/527 [==============================] - 1s 1ms/step - loss: 0.5590 - accuracy: 0.7253\n",
            "Epoch 7/100\n",
            "527/527 [==============================] - 1s 1ms/step - loss: 0.5572 - accuracy: 0.7233\n",
            "Epoch 8/100\n",
            "527/527 [==============================] - 1s 1ms/step - loss: 0.5583 - accuracy: 0.7191\n",
            "Epoch 9/100\n",
            "527/527 [==============================] - 1s 1ms/step - loss: 0.5572 - accuracy: 0.7212\n",
            "Epoch 10/100\n",
            "527/527 [==============================] - 1s 1ms/step - loss: 0.5551 - accuracy: 0.7248\n",
            "Epoch 11/100\n",
            "527/527 [==============================] - 1s 1ms/step - loss: 0.5571 - accuracy: 0.7247\n",
            "Epoch 12/100\n",
            "527/527 [==============================] - 1s 1ms/step - loss: 0.5536 - accuracy: 0.7235\n",
            "Epoch 13/100\n",
            "527/527 [==============================] - 1s 1ms/step - loss: 0.5530 - accuracy: 0.7197\n",
            "Epoch 14/100\n",
            "527/527 [==============================] - 1s 1ms/step - loss: 0.5544 - accuracy: 0.7187\n",
            "Epoch 15/100\n",
            "527/527 [==============================] - 1s 1ms/step - loss: 0.5540 - accuracy: 0.7235\n",
            "Epoch 16/100\n",
            "527/527 [==============================] - 1s 1ms/step - loss: 0.5578 - accuracy: 0.7238\n",
            "Epoch 17/100\n",
            "527/527 [==============================] - 1s 1ms/step - loss: 0.5583 - accuracy: 0.7223\n",
            "Epoch 18/100\n",
            "527/527 [==============================] - 1s 1ms/step - loss: 0.5588 - accuracy: 0.7253\n",
            "Epoch 19/100\n",
            "527/527 [==============================] - 1s 1ms/step - loss: 0.5564 - accuracy: 0.7195\n",
            "Epoch 20/100\n",
            "527/527 [==============================] - 1s 1ms/step - loss: 0.5541 - accuracy: 0.7253\n",
            "Epoch 21/100\n",
            "527/527 [==============================] - 1s 1ms/step - loss: 0.5596 - accuracy: 0.7219\n",
            "Epoch 22/100\n",
            "527/527 [==============================] - 1s 1ms/step - loss: 0.5586 - accuracy: 0.7257\n",
            "Epoch 23/100\n",
            "527/527 [==============================] - 1s 1ms/step - loss: 0.5604 - accuracy: 0.7262\n",
            "Epoch 24/100\n",
            "527/527 [==============================] - 1s 1ms/step - loss: 0.5585 - accuracy: 0.7245\n",
            "Epoch 25/100\n",
            "527/527 [==============================] - 1s 1ms/step - loss: 0.5562 - accuracy: 0.7252\n",
            "Epoch 26/100\n",
            "527/527 [==============================] - 1s 1ms/step - loss: 0.5554 - accuracy: 0.7230\n",
            "Epoch 27/100\n",
            "527/527 [==============================] - 1s 1ms/step - loss: 0.5524 - accuracy: 0.7259\n",
            "Epoch 28/100\n",
            "527/527 [==============================] - 1s 1ms/step - loss: 0.5523 - accuracy: 0.7278\n",
            "Epoch 29/100\n",
            "527/527 [==============================] - 1s 1ms/step - loss: 0.5544 - accuracy: 0.7250\n",
            "Epoch 30/100\n",
            "527/527 [==============================] - 1s 1ms/step - loss: 0.5597 - accuracy: 0.7225\n",
            "Epoch 31/100\n",
            "527/527 [==============================] - 1s 1ms/step - loss: 0.5607 - accuracy: 0.7221\n",
            "Epoch 32/100\n",
            "527/527 [==============================] - 1s 1ms/step - loss: 0.5578 - accuracy: 0.7223\n",
            "Epoch 33/100\n",
            "527/527 [==============================] - 1s 1ms/step - loss: 0.5559 - accuracy: 0.7243\n",
            "Epoch 34/100\n",
            "527/527 [==============================] - 1s 1ms/step - loss: 0.5574 - accuracy: 0.7248\n",
            "Epoch 35/100\n",
            "527/527 [==============================] - 1s 1ms/step - loss: 0.5580 - accuracy: 0.7250\n",
            "Epoch 36/100\n",
            "527/527 [==============================] - 1s 1ms/step - loss: 0.5583 - accuracy: 0.7249\n",
            "Epoch 37/100\n",
            "527/527 [==============================] - 1s 1ms/step - loss: 0.5564 - accuracy: 0.7218\n",
            "Epoch 38/100\n",
            "527/527 [==============================] - 1s 1ms/step - loss: 0.5535 - accuracy: 0.7202\n",
            "Epoch 39/100\n",
            "527/527 [==============================] - 1s 1ms/step - loss: 0.5567 - accuracy: 0.7214\n",
            "Epoch 40/100\n",
            "527/527 [==============================] - 1s 1ms/step - loss: 0.5573 - accuracy: 0.7229\n",
            "Epoch 41/100\n",
            "527/527 [==============================] - 1s 1ms/step - loss: 0.5568 - accuracy: 0.7263\n",
            "Epoch 42/100\n",
            "527/527 [==============================] - 1s 1ms/step - loss: 0.5561 - accuracy: 0.7244\n",
            "Epoch 43/100\n",
            "527/527 [==============================] - 1s 1ms/step - loss: 0.5600 - accuracy: 0.7252\n",
            "Epoch 44/100\n",
            "527/527 [==============================] - 1s 1ms/step - loss: 0.5600 - accuracy: 0.7207\n",
            "Epoch 45/100\n",
            "527/527 [==============================] - 1s 1ms/step - loss: 0.5573 - accuracy: 0.7239\n",
            "Epoch 46/100\n",
            "527/527 [==============================] - 1s 1ms/step - loss: 0.5520 - accuracy: 0.7245\n",
            "Epoch 47/100\n",
            "527/527 [==============================] - 1s 1ms/step - loss: 0.5517 - accuracy: 0.7233\n",
            "Epoch 48/100\n",
            "527/527 [==============================] - 1s 1ms/step - loss: 0.5553 - accuracy: 0.7245\n",
            "Epoch 49/100\n",
            "527/527 [==============================] - 1s 1ms/step - loss: 0.5576 - accuracy: 0.7204\n",
            "Epoch 50/100\n",
            "527/527 [==============================] - 1s 1ms/step - loss: 0.5586 - accuracy: 0.7263\n",
            "Epoch 51/100\n",
            "527/527 [==============================] - 1s 1ms/step - loss: 0.5532 - accuracy: 0.7218\n",
            "Epoch 52/100\n",
            "527/527 [==============================] - 1s 1ms/step - loss: 0.5526 - accuracy: 0.7234\n",
            "Epoch 53/100\n",
            "527/527 [==============================] - 1s 1ms/step - loss: 0.5584 - accuracy: 0.7238\n",
            "Epoch 54/100\n",
            "527/527 [==============================] - 1s 1ms/step - loss: 0.5610 - accuracy: 0.7220\n",
            "Epoch 55/100\n",
            "527/527 [==============================] - 1s 1ms/step - loss: 0.5607 - accuracy: 0.7238\n",
            "Epoch 56/100\n",
            "527/527 [==============================] - 1s 1ms/step - loss: 0.5585 - accuracy: 0.7244\n",
            "Epoch 57/100\n",
            "527/527 [==============================] - 1s 1ms/step - loss: 0.5601 - accuracy: 0.7215\n",
            "Epoch 58/100\n",
            "527/527 [==============================] - 1s 1ms/step - loss: 0.5562 - accuracy: 0.7262\n",
            "Epoch 59/100\n",
            "527/527 [==============================] - 1s 1ms/step - loss: 0.5587 - accuracy: 0.7188\n",
            "Epoch 60/100\n",
            "527/527 [==============================] - 1s 1ms/step - loss: 0.5586 - accuracy: 0.7221\n",
            "Epoch 61/100\n",
            "527/527 [==============================] - 1s 1ms/step - loss: 0.5583 - accuracy: 0.7262\n",
            "Epoch 62/100\n",
            "527/527 [==============================] - 1s 1ms/step - loss: 0.5583 - accuracy: 0.7248\n",
            "Epoch 63/100\n",
            "527/527 [==============================] - 1s 1ms/step - loss: 0.5621 - accuracy: 0.7259\n",
            "Epoch 64/100\n",
            "527/527 [==============================] - 1s 1ms/step - loss: 0.5607 - accuracy: 0.7245\n",
            "Epoch 65/100\n",
            "527/527 [==============================] - 1s 1ms/step - loss: 0.5632 - accuracy: 0.7231\n",
            "Epoch 66/100\n",
            "527/527 [==============================] - 1s 1ms/step - loss: 0.5629 - accuracy: 0.7250\n",
            "Epoch 67/100\n",
            "527/527 [==============================] - 1s 1ms/step - loss: 0.5594 - accuracy: 0.7264\n",
            "Epoch 68/100\n",
            "527/527 [==============================] - 1s 1ms/step - loss: 0.5574 - accuracy: 0.7223\n",
            "Epoch 69/100\n",
            "527/527 [==============================] - 1s 1ms/step - loss: 0.5558 - accuracy: 0.7224\n",
            "Epoch 70/100\n",
            "527/527 [==============================] - 1s 1ms/step - loss: 0.5582 - accuracy: 0.7223\n",
            "Epoch 71/100\n",
            "527/527 [==============================] - 1s 1ms/step - loss: 0.5596 - accuracy: 0.7252\n",
            "Epoch 72/100\n",
            "527/527 [==============================] - 1s 1ms/step - loss: 0.5580 - accuracy: 0.7233\n",
            "Epoch 73/100\n",
            "527/527 [==============================] - 1s 1ms/step - loss: 0.5562 - accuracy: 0.7240\n",
            "Epoch 74/100\n",
            "527/527 [==============================] - 1s 1ms/step - loss: 0.5566 - accuracy: 0.7258\n",
            "Epoch 75/100\n",
            "527/527 [==============================] - 1s 1ms/step - loss: 0.5601 - accuracy: 0.7218\n",
            "Epoch 76/100\n",
            "527/527 [==============================] - 1s 1ms/step - loss: 0.5632 - accuracy: 0.7240\n",
            "Epoch 77/100\n",
            "527/527 [==============================] - 1s 1ms/step - loss: 0.5648 - accuracy: 0.7209\n",
            "Epoch 78/100\n",
            "527/527 [==============================] - 1s 1ms/step - loss: 0.5639 - accuracy: 0.7255\n",
            "Epoch 79/100\n",
            "527/527 [==============================] - 1s 1ms/step - loss: 0.5660 - accuracy: 0.7228\n",
            "Epoch 80/100\n",
            "527/527 [==============================] - 1s 1ms/step - loss: 0.5594 - accuracy: 0.7230\n",
            "Epoch 81/100\n",
            "527/527 [==============================] - 1s 1ms/step - loss: 0.5578 - accuracy: 0.7287\n",
            "Epoch 82/100\n",
            "527/527 [==============================] - 1s 1ms/step - loss: 0.5585 - accuracy: 0.7242\n",
            "Epoch 83/100\n",
            "527/527 [==============================] - 1s 1ms/step - loss: 0.5579 - accuracy: 0.7204\n",
            "Epoch 84/100\n",
            "527/527 [==============================] - 1s 1ms/step - loss: 0.5631 - accuracy: 0.7253\n",
            "Epoch 85/100\n",
            "527/527 [==============================] - 1s 1ms/step - loss: 0.5625 - accuracy: 0.7214\n",
            "Epoch 86/100\n",
            "527/527 [==============================] - 1s 1ms/step - loss: 0.5574 - accuracy: 0.7204\n",
            "Epoch 87/100\n",
            "527/527 [==============================] - 1s 1ms/step - loss: 0.5600 - accuracy: 0.7229\n",
            "Epoch 88/100\n",
            "527/527 [==============================] - 1s 1ms/step - loss: 0.5637 - accuracy: 0.7238\n",
            "Epoch 89/100\n",
            "527/527 [==============================] - 1s 1ms/step - loss: 0.5605 - accuracy: 0.7249\n",
            "Epoch 90/100\n",
            "527/527 [==============================] - 1s 1ms/step - loss: 0.5584 - accuracy: 0.7234\n",
            "Epoch 91/100\n",
            "527/527 [==============================] - 1s 1ms/step - loss: 0.5643 - accuracy: 0.7264\n",
            "Epoch 92/100\n",
            "527/527 [==============================] - 1s 1ms/step - loss: 0.5698 - accuracy: 0.7250\n",
            "Epoch 93/100\n",
            "527/527 [==============================] - 1s 1ms/step - loss: 0.5655 - accuracy: 0.7243\n",
            "Epoch 94/100\n",
            "527/527 [==============================] - 1s 1ms/step - loss: 0.5638 - accuracy: 0.7245\n",
            "Epoch 95/100\n",
            "527/527 [==============================] - 1s 1ms/step - loss: 0.5678 - accuracy: 0.7248\n",
            "Epoch 96/100\n",
            "527/527 [==============================] - 1s 1ms/step - loss: 0.5685 - accuracy: 0.7212\n",
            "Epoch 97/100\n",
            "527/527 [==============================] - 1s 1ms/step - loss: 0.5672 - accuracy: 0.7255\n",
            "Epoch 98/100\n",
            "527/527 [==============================] - 1s 1ms/step - loss: 0.5641 - accuracy: 0.7210\n",
            "Epoch 99/100\n",
            "527/527 [==============================] - 1s 1ms/step - loss: 0.5632 - accuracy: 0.7254\n",
            "Epoch 100/100\n",
            "527/527 [==============================] - 1s 1ms/step - loss: 0.5646 - accuracy: 0.7224\n",
            "WARNING:tensorflow:Model was constructed with shape (None, None, 7) for input Tensor(\"dense_12_input:0\", shape=(None, None, 7), dtype=float32), but it was called on an input with incompatible shape (None, 7).\n"
          ],
          "name": "stdout"
        }
      ]
    },
    {
      "cell_type": "markdown",
      "metadata": {
        "id": "5khpWrvnGos3",
        "colab_type": "text"
      },
      "source": [
        "Scoring & Comparison Notes"
      ]
    },
    {
      "cell_type": "code",
      "metadata": {
        "id": "Btfj540hDoDl",
        "colab_type": "code",
        "colab": {
          "base_uri": "https://localhost:8080/",
          "height": 293
        },
        "outputId": "c3714033-be50-4d15-e67c-3119e8803a6b"
      },
      "source": [
        "fpr_gbc, tpr_gbc, thresholds_gbc = roc_curve(y_test, y_preds_test)\n",
        "auc_gbc = auc(fpr_gbc, tpr_gbc)\n",
        "\n",
        "fpr_mlp, tpr_mlp, thresholds_mlp = roc_curve(y_test, y_mlp)\n",
        "auc_mlp = auc(fpr_mlp, tpr_mlp)\n",
        "\n",
        "plt.plot(fpr_gbc, tpr_gbc, label='GBC (area = {:.3f})'.format(auc_gbc))\n",
        "plt.plot(fpr_mlp, tpr_mlp, label='MLP (area = {:.3f})'.format(auc_mlp))\n",
        "plt.xlabel('False positive rate')\n",
        "plt.ylabel('True positive rate')\n",
        "plt.title('ROC curve')\n",
        "plt.legend(loc='best')\n",
        "plt.show()"
      ],
      "execution_count": 70,
      "outputs": [
        {
          "output_type": "display_data",
          "data": {
            "image/png": "[encoded data removed]",
            "text/plain": [
              "<Figure size 432x288 with 1 Axes>"
            ]
          },
          "metadata": {
            "tags": [],
            "needs_background": "light"
          }
        }
      ]
    },
    {
      "cell_type": "markdown",
      "metadata": {
        "id": "1tlssMy9Esl9",
        "colab_type": "text"
      },
      "source": [
        "Quick Note on ROC and AUC from Yellowbirck Documentation:\n",
        "\n",
        "https://www.scikit-yb.org/en/latest/api/classifier/rocauc.html#\n",
        "\n",
        "ROC-AUC\n",
        "\n",
        "Receiver Operating Characteristic (ROC) curves are a measure of a classifier’s predictive quality that compares and visualizes the tradeoff between the models’ sensitivity and specificity. The ROC curve displays the true positive rate on the Y-axis and the false positive rate on the X-axis on both a global average and a per-class basis. The ideal point is therefore the top-left corner of the plot: false positives are zero and true positives are one.\n",
        "\n",
        "This leads to another metric, area under the curve (AUC), a computation of the relationship between false positives and true positives. The higher the AUC, the better the model generally is."
      ]
    },
    {
      "cell_type": "code",
      "metadata": {
        "id": "-Tv5ZV0jDo7S",
        "colab_type": "code",
        "colab": {
          "base_uri": "https://localhost:8080/",
          "height": 293
        },
        "outputId": "fa0871ae-321d-4d88-a48c-c63febf7d159"
      },
      "source": [
        "scores = cross_val_score(gbc_tuned, X_train, y_train, cv=3)\n",
        "print(\"Accuracy: %0.2f (+/- %0.2f)\" % (scores.mean(), scores.std() * 2))\n",
        "print('GBC AUC : ', auc_gbc)\n",
        "print()\n",
        "print('Confusion Matrix GBC')\n",
        "print(confusion_matrix(y_test, y_preds_test))\n",
        "print()\n",
        "print('Classification Matrix GBC')\n",
        "print(classification_report(y_test, y_preds_test))"
      ],
      "execution_count": 71,
      "outputs": [
        {
          "output_type": "stream",
          "text": [
            "Accuracy: 0.72 (+/- 0.00)\n",
            "GBC AUC :  0.7306696581787634\n",
            "\n",
            "Confusion Matrix GBC\n",
            "[[741 254]\n",
            " [278 703]]\n",
            "\n",
            "Classification Matrix GBC\n",
            "              precision    recall  f1-score   support\n",
            "\n",
            "           0       0.73      0.74      0.74       995\n",
            "           1       0.73      0.72      0.73       981\n",
            "\n",
            "    accuracy                           0.73      1976\n",
            "   macro avg       0.73      0.73      0.73      1976\n",
            "weighted avg       0.73      0.73      0.73      1976\n",
            "\n"
          ],
          "name": "stdout"
        }
      ]
    },
    {
      "cell_type": "code",
      "metadata": {
        "id": "pzYHTA2OOyWy",
        "colab_type": "code",
        "colab": {
          "base_uri": "https://localhost:8080/",
          "height": 50
        },
        "outputId": "69633fe0-d37c-48f7-81b7-7a67b3942611"
      },
      "source": [
        "y_mlp"
      ],
      "execution_count": 72,
      "outputs": [
        {
          "output_type": "execute_result",
          "data": {
            "text/plain": [
              "array([0.85150737, 0.8444309 , 0.25704753, ..., 0.25704753, 0.25704753,\n",
              "       0.51815414], dtype=float32)"
            ]
          },
          "metadata": {
            "tags": []
          },
          "execution_count": 72
        }
      ]
    },
    {
      "cell_type": "code",
      "metadata": {
        "id": "Uf5wwyNXEHBe",
        "colab_type": "code",
        "colab": {
          "base_uri": "https://localhost:8080/",
          "height": 277
        },
        "outputId": "b28de42e-1b83-4357-90ea-8c967a3e7f01"
      },
      "source": [
        "print('MLP AUC : ', auc_mlp)\n",
        "print()\n",
        "print('Confusion Matrix MLP')\n",
        "print(confusion_matrix(y_test, y_mlp.round(decimals=0, out=None)))\n",
        "print()\n",
        "print('Classification Matrix MLP')\n",
        "print(classification_report(y_test, y_mlp.round(decimals=0, out=None)))"
      ],
      "execution_count": 73,
      "outputs": [
        {
          "output_type": "stream",
          "text": [
            "MLP AUC :  0.7668654178128153\n",
            "\n",
            "Confusion Matrix MLP\n",
            "[[702 293]\n",
            " [240 741]]\n",
            "\n",
            "Classification Matrix MLP\n",
            "              precision    recall  f1-score   support\n",
            "\n",
            "           0       0.75      0.71      0.72       995\n",
            "           1       0.72      0.76      0.74       981\n",
            "\n",
            "    accuracy                           0.73      1976\n",
            "   macro avg       0.73      0.73      0.73      1976\n",
            "weighted avg       0.73      0.73      0.73      1976\n",
            "\n"
          ],
          "name": "stdout"
        }
      ]
    },
    {
      "cell_type": "markdown",
      "metadata": {
        "id": "iK97q6UCH3qS",
        "colab_type": "text"
      },
      "source": [
        "Before comparing performance let's discuss the overall pros and cons of the models used. This is by no means intended to be an exhaustive comparison between these two methods, but general things to keep in mind when considering model choice. \n",
        "\n",
        "The GBC has the advantage of being relatively less \"complex\" than the MLP. Complexity refers to not only the computational complexity but also the parameters needed to be tuned to reach similar accuracy. Also as eluded to earlier, the GBC model is not a \"black-box\" model, meaning we can extract things like feature importance and overall get a more transparent look into the models' operations and how it reached a certain conclusion or prediction.\n",
        "\n",
        "The MLP actually has a higher AUC and has more precision regarding games where the blue team wins or the true value is 1. \n",
        "\n",
        "The MLP success is not as \"stable\" or predictable as the GBC due to the lack of reproducibility of Deep Nets in general.\n",
        "\n",
        "Overall I would say that the MLP shows more promise than the GBC regarding exploratory work. (There were some gaps in my tuning that may be holding back the MLP's predictive performance) I say this because of the AUC score being closer to one means that we find higher separability between winning and losing games when using the MLP model.\n",
        "\n",
        "The MLP model is a better predictive model, but may sometimes fall behind GBC choice due to its relative lack of reproducibility of Deep Nets in general. \n",
        "\n",
        "Thanks for Checking out the notebook!"
      ]
    },
    {
      "cell_type": "code",
      "metadata": {
        "id": "jzudwAGVEL-p",
        "colab_type": "code",
        "colab": {}
      },
      "source": [
        ""
      ],
      "execution_count": null,
      "outputs": []
    }
  ]
}
