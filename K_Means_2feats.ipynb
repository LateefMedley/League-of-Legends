{
 "cells": [
  {
   "cell_type": "code",
   "execution_count": 1,
   "metadata": {},
   "outputs": [],
   "source": [
    "import numpy as np\n",
    "import pandas as pd\n",
    "import matplotlib.pyplot as plt\n",
    "import seaborn as sns\n",
    "from sklearn.metrics import classification_report\n",
    "from sklearn.model_selection import train_test_split\n",
    "from sklearn.cluster import KMeans\n",
    "from sklearn.preprocessing import normalize\n",
    "from sklearn.decomposition import PCA\n",
    "from sklearn.cluster import MiniBatchKMeans\n",
    "%matplotlib inline"
   ]
  },
  {
   "cell_type": "code",
   "execution_count": 2,
   "metadata": {},
   "outputs": [],
   "source": [
    "PATH = r'C:\\Users\\latee\\Documents\\GitHub\\League of Legends Cluster\\LOL.csv'\n",
    "df = pd.read_csv(PATH)"
   ]
  },
  {
   "cell_type": "code",
   "execution_count": 3,
   "metadata": {},
   "outputs": [],
   "source": [
    "df = df.drop(['Unnamed: 0'], axis = 1)"
   ]
  },
  {
   "cell_type": "code",
   "execution_count": 4,
   "metadata": {},
   "outputs": [
    {
     "data": {
      "text/html": [
       "<div>\n",
       "<style scoped>\n",
       "    .dataframe tbody tr th:only-of-type {\n",
       "        vertical-align: middle;\n",
       "    }\n",
       "\n",
       "    .dataframe tbody tr th {\n",
       "        vertical-align: top;\n",
       "    }\n",
       "\n",
       "    .dataframe thead th {\n",
       "        text-align: right;\n",
       "    }\n",
       "</style>\n",
       "<table border=\"1\" class=\"dataframe\">\n",
       "  <thead>\n",
       "    <tr style=\"text-align: right;\">\n",
       "      <th></th>\n",
       "      <th>Length</th>\n",
       "      <th>Mean</th>\n",
       "      <th>Median</th>\n",
       "      <th>Min</th>\n",
       "      <th>Max</th>\n",
       "      <th>STD</th>\n",
       "      <th>Variance</th>\n",
       "      <th>Kurtosis</th>\n",
       "      <th>Skew</th>\n",
       "    </tr>\n",
       "  </thead>\n",
       "  <tbody>\n",
       "    <tr>\n",
       "      <td>bluewins</td>\n",
       "      <td>9784</td>\n",
       "      <td>0.498876</td>\n",
       "      <td>0.0</td>\n",
       "      <td>0</td>\n",
       "      <td>1</td>\n",
       "      <td>0.500587</td>\n",
       "      <td>2.499987e-01</td>\n",
       "      <td>-1.999980</td>\n",
       "      <td>0.004497</td>\n",
       "    </tr>\n",
       "    <tr>\n",
       "      <td>bluetotalgold</td>\n",
       "      <td>9784</td>\n",
       "      <td>16477.122240</td>\n",
       "      <td>16388.0</td>\n",
       "      <td>13428</td>\n",
       "      <td>20236</td>\n",
       "      <td>1477.029768</td>\n",
       "      <td>2.176488e+06</td>\n",
       "      <td>-0.250386</td>\n",
       "      <td>0.310266</td>\n",
       "    </tr>\n",
       "    <tr>\n",
       "      <td>redtotalgold</td>\n",
       "      <td>9784</td>\n",
       "      <td>16469.065106</td>\n",
       "      <td>16369.0</td>\n",
       "      <td>13489</td>\n",
       "      <td>20376</td>\n",
       "      <td>1447.495477</td>\n",
       "      <td>2.090318e+06</td>\n",
       "      <td>-0.207181</td>\n",
       "      <td>0.337586</td>\n",
       "    </tr>\n",
       "  </tbody>\n",
       "</table>\n",
       "</div>"
      ],
      "text/plain": [
       "               Length          Mean   Median    Min    Max          STD  \\\n",
       "bluewins         9784      0.498876      0.0      0      1     0.500587   \n",
       "bluetotalgold    9784  16477.122240  16388.0  13428  20236  1477.029768   \n",
       "redtotalgold     9784  16469.065106  16369.0  13489  20376  1447.495477   \n",
       "\n",
       "                   Variance  Kurtosis      Skew  \n",
       "bluewins       2.499987e-01 -1.999980  0.004497  \n",
       "bluetotalgold  2.176488e+06 -0.250386  0.310266  \n",
       "redtotalgold   2.090318e+06 -0.207181  0.337586  "
      ]
     },
     "execution_count": 4,
     "metadata": {},
     "output_type": "execute_result"
    }
   ],
   "source": [
    "import statistics as st\n",
    "from scipy.stats import kurtosis\n",
    "from scipy.stats import skew\n",
    "from scipy.stats import stats\n",
    "from scipy.stats import t\n",
    "\n",
    "def sum_stats(df, col_names):\n",
    "    sum_chart = ['Length', 'Mean', 'Median', 'Min', 'Max', 'STD',\n",
    "                 'Variance', 'Kurtosis', 'Skew']\n",
    "    stat_t = []\n",
    "    for col in col_names:\n",
    "        stat_t.append([len(df[col]), st.mean(df[col]), st.median(df[col]),\n",
    "                       np.min(df[col]), np.max(df[col]),\n",
    "                       np.std(df[col], ddof=23), np.var(df[col]),\n",
    "                       kurtosis(df[col]), skew(df[col])])\n",
    "    return pd.DataFrame(stat_t, index=col_names, columns=sum_chart)\n",
    "sum_stats(df, df.columns.values[1:])"
   ]
  },
  {
   "cell_type": "code",
   "execution_count": 5,
   "metadata": {},
   "outputs": [
    {
     "data": {
      "text/html": [
       "<div>\n",
       "<style scoped>\n",
       "    .dataframe tbody tr th:only-of-type {\n",
       "        vertical-align: middle;\n",
       "    }\n",
       "\n",
       "    .dataframe tbody tr th {\n",
       "        vertical-align: top;\n",
       "    }\n",
       "\n",
       "    .dataframe thead th {\n",
       "        text-align: right;\n",
       "    }\n",
       "</style>\n",
       "<table border=\"1\" class=\"dataframe\">\n",
       "  <thead>\n",
       "    <tr style=\"text-align: right;\">\n",
       "      <th></th>\n",
       "      <th>gameid</th>\n",
       "      <th>bluewins</th>\n",
       "      <th>bluetotalgold</th>\n",
       "      <th>redtotalgold</th>\n",
       "    </tr>\n",
       "  </thead>\n",
       "  <tbody>\n",
       "    <tr>\n",
       "      <td>0</td>\n",
       "      <td>4519157822</td>\n",
       "      <td>0</td>\n",
       "      <td>17210</td>\n",
       "      <td>16567</td>\n",
       "    </tr>\n",
       "    <tr>\n",
       "      <td>1</td>\n",
       "      <td>4523371949</td>\n",
       "      <td>0</td>\n",
       "      <td>14712</td>\n",
       "      <td>17620</td>\n",
       "    </tr>\n",
       "    <tr>\n",
       "      <td>2</td>\n",
       "      <td>4521474530</td>\n",
       "      <td>0</td>\n",
       "      <td>16113</td>\n",
       "      <td>17285</td>\n",
       "    </tr>\n",
       "    <tr>\n",
       "      <td>3</td>\n",
       "      <td>4524384067</td>\n",
       "      <td>0</td>\n",
       "      <td>15157</td>\n",
       "      <td>16478</td>\n",
       "    </tr>\n",
       "    <tr>\n",
       "      <td>4</td>\n",
       "      <td>4436033771</td>\n",
       "      <td>0</td>\n",
       "      <td>16400</td>\n",
       "      <td>17404</td>\n",
       "    </tr>\n",
       "    <tr>\n",
       "      <td>...</td>\n",
       "      <td>...</td>\n",
       "      <td>...</td>\n",
       "      <td>...</td>\n",
       "      <td>...</td>\n",
       "    </tr>\n",
       "    <tr>\n",
       "      <td>9779</td>\n",
       "      <td>4527873286</td>\n",
       "      <td>1</td>\n",
       "      <td>17765</td>\n",
       "      <td>15246</td>\n",
       "    </tr>\n",
       "    <tr>\n",
       "      <td>9780</td>\n",
       "      <td>4527797466</td>\n",
       "      <td>1</td>\n",
       "      <td>16238</td>\n",
       "      <td>15456</td>\n",
       "    </tr>\n",
       "    <tr>\n",
       "      <td>9781</td>\n",
       "      <td>4527713716</td>\n",
       "      <td>0</td>\n",
       "      <td>15903</td>\n",
       "      <td>18319</td>\n",
       "    </tr>\n",
       "    <tr>\n",
       "      <td>9782</td>\n",
       "      <td>4527628313</td>\n",
       "      <td>0</td>\n",
       "      <td>14459</td>\n",
       "      <td>15298</td>\n",
       "    </tr>\n",
       "    <tr>\n",
       "      <td>9783</td>\n",
       "      <td>4523772935</td>\n",
       "      <td>1</td>\n",
       "      <td>16266</td>\n",
       "      <td>15339</td>\n",
       "    </tr>\n",
       "  </tbody>\n",
       "</table>\n",
       "<p>9784 rows × 4 columns</p>\n",
       "</div>"
      ],
      "text/plain": [
       "          gameid  bluewins  bluetotalgold  redtotalgold\n",
       "0     4519157822         0          17210         16567\n",
       "1     4523371949         0          14712         17620\n",
       "2     4521474530         0          16113         17285\n",
       "3     4524384067         0          15157         16478\n",
       "4     4436033771         0          16400         17404\n",
       "...          ...       ...            ...           ...\n",
       "9779  4527873286         1          17765         15246\n",
       "9780  4527797466         1          16238         15456\n",
       "9781  4527713716         0          15903         18319\n",
       "9782  4527628313         0          14459         15298\n",
       "9783  4523772935         1          16266         15339\n",
       "\n",
       "[9784 rows x 4 columns]"
      ]
     },
     "execution_count": 5,
     "metadata": {},
     "output_type": "execute_result"
    }
   ],
   "source": [
    "df"
   ]
  },
  {
   "cell_type": "code",
   "execution_count": 6,
   "metadata": {},
   "outputs": [],
   "source": [
    "X = df.loc[:, ['bluetotalgold', 'redtotalgold']].values\n",
    "y = df.loc[:, ['bluewins']].values.ravel()"
   ]
  },
  {
   "cell_type": "code",
   "execution_count": 7,
   "metadata": {},
   "outputs": [],
   "source": [
    "# Train Test Split \n",
    "\n",
    "X_train, X_test, y_train, y_test = train_test_split(X, y, test_size = .9, random_state = 0)"
   ]
  },
  {
   "cell_type": "markdown",
   "metadata": {},
   "source": [
    "### K-means\n",
    "\n",
    "Note that I used the entire dataset for the K-means algorithm. "
   ]
  },
  {
   "cell_type": "code",
   "execution_count": 8,
   "metadata": {},
   "outputs": [
    {
     "data": {
      "image/png": "[encoded data removed]",
      "text/plain": [
       "<Figure size 432x288 with 1 Axes>"
      ]
     },
     "metadata": {
      "needs_background": "light"
     },
     "output_type": "display_data"
    },
    {
     "name": "stdout",
     "output_type": "stream",
     "text": [
      "Comparing k-means clusters against the data:\n",
      "col_0     0     1\n",
      "row_0            \n",
      "0      3563  1303\n",
      "1      1340  3578\n",
      "              precision    recall  f1-score   support\n",
      "\n",
      "           0       0.73      0.73      0.73      4903\n",
      "           1       0.73      0.73      0.73      4881\n",
      "\n",
      "    accuracy                           0.73      9784\n",
      "   macro avg       0.73      0.73      0.73      9784\n",
      "weighted avg       0.73      0.73      0.73      9784\n",
      "\n"
     ]
    }
   ],
   "source": [
    "# First step is to normalize the data\n",
    "X_norm = normalize(X)\n",
    "\n",
    "# We know we're looking for two clusters.\n",
    "# Calculate predicted values.\n",
    "y_pred = KMeans(n_clusters=2, random_state=42, init='k-means++').fit_predict(X_norm)\n",
    "\n",
    "# Plot the solution.\n",
    "plt.scatter(X_norm[:, 0], X_norm[:, 1], c=y_pred)\n",
    "plt.show()\n",
    "\n",
    "# Check the solution against the data.\n",
    "print('Comparing k-means clusters against the data:')\n",
    "print(pd.crosstab(y_pred, y))\n",
    "print(classification_report(y, y_pred))"
   ]
  },
  {
   "cell_type": "code",
   "execution_count": null,
   "metadata": {},
   "outputs": [],
   "source": []
  },
  {
   "cell_type": "markdown",
   "metadata": {},
   "source": [
    "### K-means\n",
    "\n",
    "Note that I used the entire dataset for the K-means algorithm. "
   ]
  },
  {
   "cell_type": "code",
   "execution_count": 9,
   "metadata": {},
   "outputs": [
    {
     "data": {
      "image/png": "[encoded data removed]",
      "text/plain": [
       "<Figure size 432x288 with 1 Axes>"
      ]
     },
     "metadata": {
      "needs_background": "light"
     },
     "output_type": "display_data"
    },
    {
     "name": "stdout",
     "output_type": "stream",
     "text": [
      "Comparing k-means clusters against the data:\n",
      "col_0     0     1\n",
      "row_0            \n",
      "0      3563  1303\n",
      "1      1340  3578\n",
      "              precision    recall  f1-score   support\n",
      "\n",
      "           0       0.73      0.73      0.73      4903\n",
      "           1       0.73      0.73      0.73      4881\n",
      "\n",
      "    accuracy                           0.73      9784\n",
      "   macro avg       0.73      0.73      0.73      9784\n",
      "weighted avg       0.73      0.73      0.73      9784\n",
      "\n"
     ]
    }
   ],
   "source": [
    "# First step is to normalize the data\n",
    "X_norm = normalize(X)\n",
    "\n",
    "# We know we're looking for two clusters.\n",
    "# Calculate predicted values.\n",
    "y_pred = KMeans(n_clusters=2, random_state=42, init='k-means++').fit_predict(X_norm)\n",
    "\n",
    "# Plot the solution.\n",
    "plt.scatter(X_norm[:, 0], X_norm[:, 1], c=y_pred)\n",
    "plt.show()\n",
    "\n",
    "# Check the solution against the data.\n",
    "print('Comparing k-means clusters against the data:')\n",
    "print(pd.crosstab(y_pred, y))\n",
    "print(classification_report(y, y_pred))"
   ]
  },
  {
   "cell_type": "code",
   "execution_count": null,
   "metadata": {},
   "outputs": [],
   "source": []
  },
  {
   "cell_type": "markdown",
   "metadata": {},
   "source": [
    "### K-means\n",
    "\n",
    "Note that I used the entire dataset for the K-means algorithm. "
   ]
  },
  {
   "cell_type": "code",
   "execution_count": 10,
   "metadata": {},
   "outputs": [
    {
     "data": {
      "image/png": "[encoded data removed]",
      "text/plain": [
       "<Figure size 432x288 with 1 Axes>"
      ]
     },
     "metadata": {
      "needs_background": "light"
     },
     "output_type": "display_data"
    },
    {
     "name": "stdout",
     "output_type": "stream",
     "text": [
      "Comparing k-means clusters against the data:\n",
      "col_0     0     1\n",
      "row_0            \n",
      "0      3563  1303\n",
      "1      1340  3578\n",
      "              precision    recall  f1-score   support\n",
      "\n",
      "           0       0.73      0.73      0.73      4903\n",
      "           1       0.73      0.73      0.73      4881\n",
      "\n",
      "    accuracy                           0.73      9784\n",
      "   macro avg       0.73      0.73      0.73      9784\n",
      "weighted avg       0.73      0.73      0.73      9784\n",
      "\n"
     ]
    }
   ],
   "source": [
    "# First step is to normalize the data\n",
    "X_norm = normalize(X)\n",
    "\n",
    "# We know we're looking for two clusters.\n",
    "# Calculate predicted values.\n",
    "y_pred = KMeans(n_clusters=2, random_state=42, init='k-means++').fit_predict(X_norm)\n",
    "\n",
    "# Plot the solution.\n",
    "plt.scatter(X_norm[:, 0], X_norm[:, 1], c=y_pred)\n",
    "plt.show()\n",
    "\n",
    "# Check the solution against the data.\n",
    "print('Comparing k-means clusters against the data:')\n",
    "print(pd.crosstab(y_pred, y))\n",
    "print(classification_report(y, y_pred))"
   ]
  },
  {
   "cell_type": "code",
   "execution_count": null,
   "metadata": {},
   "outputs": [],
   "source": []
  },
  {
   "cell_type": "markdown",
   "metadata": {},
   "source": [
    "### K-means\n",
    "\n",
    "Note that I used the entire dataset for the K-means algorithm. "
   ]
  },
  {
   "cell_type": "code",
   "execution_count": 11,
   "metadata": {},
   "outputs": [
    {
     "data": {
      "image/png": "[encoded data removed]",
      "text/plain": [
       "<Figure size 432x288 with 1 Axes>"
      ]
     },
     "metadata": {
      "needs_background": "light"
     },
     "output_type": "display_data"
    },
    {
     "name": "stdout",
     "output_type": "stream",
     "text": [
      "Comparing k-means clusters against the data:\n",
      "col_0     0     1\n",
      "row_0            \n",
      "0      3563  1303\n",
      "1      1340  3578\n",
      "              precision    recall  f1-score   support\n",
      "\n",
      "           0       0.73      0.73      0.73      4903\n",
      "           1       0.73      0.73      0.73      4881\n",
      "\n",
      "    accuracy                           0.73      9784\n",
      "   macro avg       0.73      0.73      0.73      9784\n",
      "weighted avg       0.73      0.73      0.73      9784\n",
      "\n"
     ]
    }
   ],
   "source": [
    "# First step is to normalize the data\n",
    "X_norm = normalize(X)\n",
    "\n",
    "# We know we're looking for two clusters.\n",
    "# Calculate predicted values.\n",
    "y_pred = KMeans(n_clusters=2, random_state=42, init='k-means++').fit_predict(X_norm)\n",
    "\n",
    "# Plot the solution.\n",
    "plt.scatter(X_norm[:, 0], X_norm[:, 1], c=y_pred)\n",
    "plt.show()\n",
    "\n",
    "# Check the solution against the data.\n",
    "print('Comparing k-means clusters against the data:')\n",
    "print(pd.crosstab(y_pred, y))\n",
    "print(classification_report(y, y_pred))"
   ]
  },
  {
   "cell_type": "code",
   "execution_count": null,
   "metadata": {},
   "outputs": [],
   "source": []
  },
  {
   "cell_type": "markdown",
   "metadata": {},
   "source": [
    "### K-means\n",
    "\n",
    "Note that I used the entire dataset for the K-means algorithm. "
   ]
  },
  {
   "cell_type": "code",
   "execution_count": 12,
   "metadata": {},
   "outputs": [
    {
     "data": {
      "image/png": "[encoded data removed]",
      "text/plain": [
       "<Figure size 432x288 with 1 Axes>"
      ]
     },
     "metadata": {
      "needs_background": "light"
     },
     "output_type": "display_data"
    },
    {
     "name": "stdout",
     "output_type": "stream",
     "text": [
      "Comparing k-means clusters against the data:\n",
      "col_0     0     1\n",
      "row_0            \n",
      "0      3563  1303\n",
      "1      1340  3578\n",
      "              precision    recall  f1-score   support\n",
      "\n",
      "           0       0.73      0.73      0.73      4903\n",
      "           1       0.73      0.73      0.73      4881\n",
      "\n",
      "    accuracy                           0.73      9784\n",
      "   macro avg       0.73      0.73      0.73      9784\n",
      "weighted avg       0.73      0.73      0.73      9784\n",
      "\n"
     ]
    }
   ],
   "source": [
    "# First step is to normalize the data\n",
    "X_norm = normalize(X)\n",
    "\n",
    "# We know we're looking for two clusters.\n",
    "# Calculate predicted values.\n",
    "y_pred = KMeans(n_clusters=2, random_state=42, init='k-means++').fit_predict(X_norm)\n",
    "\n",
    "# Plot the solution.\n",
    "plt.scatter(X_norm[:, 0], X_norm[:, 1], c=y_pred)\n",
    "plt.show()\n",
    "\n",
    "# Check the solution against the data.\n",
    "print('Comparing k-means clusters against the data:')\n",
    "print(pd.crosstab(y_pred, y))\n",
    "print(classification_report(y, y_pred))"
   ]
  },
  {
   "cell_type": "code",
   "execution_count": null,
   "metadata": {},
   "outputs": [],
   "source": []
  },
  {
   "cell_type": "code",
   "execution_count": 13,
   "metadata": {},
   "outputs": [
    {
     "data": {
      "image/png": "[encoded data removed]",
      "text/plain": [
       "<Figure size 432x288 with 1 Axes>"
      ]
     },
     "metadata": {
      "needs_background": "light"
     },
     "output_type": "display_data"
    },
    {
     "name": "stdout",
     "output_type": "stream",
     "text": [
      "Comparing k-means clusters against the data:\n",
      "col_0     0     1\n",
      "row_0            \n",
      "0      3563  1303\n",
      "1      1340  3578\n",
      "              precision    recall  f1-score   support\n",
      "\n",
      "           0       0.73      0.73      0.73      4903\n",
      "           1       0.73      0.73      0.73      4881\n",
      "\n",
      "    accuracy                           0.73      9784\n",
      "   macro avg       0.73      0.73      0.73      9784\n",
      "weighted avg       0.73      0.73      0.73      9784\n",
      "\n"
     ]
    }
   ],
   "source": [
    "# First step is to normalize the data\n",
    "X_norm = normalize(X)\n",
    "\n",
    "# We know we're looking for two clusters.\n",
    "# Calculate predicted values.\n",
    "y_pred = KMeans(n_clusters=2, random_state=42, init='k-means++').fit_predict(X_norm)\n",
    "\n",
    "# Plot the solution.\n",
    "plt.scatter(X_norm[:, 0], X_norm[:, 1], c=y_pred)\n",
    "plt.show()\n",
    "\n",
    "# Check the solution against the data.\n",
    "print('Comparing k-means clusters against the data:')\n",
    "print(pd.crosstab(y_pred, y))\n",
    "print(classification_report(y, y_pred))"
   ]
  },
  {
   "cell_type": "code",
   "execution_count": null,
   "metadata": {},
   "outputs": [],
   "source": []
  },
  {
   "cell_type": "code",
   "execution_count": 14,
   "metadata": {},
   "outputs": [
    {
     "data": {
      "image/png": "[encoded data removed]",
      "text/plain": [
       "<Figure size 432x288 with 1 Axes>"
      ]
     },
     "metadata": {
      "needs_background": "light"
     },
     "output_type": "display_data"
    },
    {
     "name": "stdout",
     "output_type": "stream",
     "text": [
      "Comparing k-means clusters against the data:\n",
      "col_0     0     1\n",
      "row_0            \n",
      "0      3563  1303\n",
      "1      1340  3578\n",
      "              precision    recall  f1-score   support\n",
      "\n",
      "           0       0.73      0.73      0.73      4903\n",
      "           1       0.73      0.73      0.73      4881\n",
      "\n",
      "    accuracy                           0.73      9784\n",
      "   macro avg       0.73      0.73      0.73      9784\n",
      "weighted avg       0.73      0.73      0.73      9784\n",
      "\n"
     ]
    }
   ],
   "source": [
    "# First step is to normalize the data\n",
    "X_norm = normalize(X)\n",
    "\n",
    "# We know we're looking for two clusters.\n",
    "# Calculate predicted values.\n",
    "y_pred = KMeans(n_clusters=2, random_state=42, init='k-means++').fit_predict(X_norm)\n",
    "\n",
    "# Plot the solution.\n",
    "plt.scatter(X_norm[:, 0], X_norm[:, 1], c=y_pred)\n",
    "plt.show()\n",
    "\n",
    "# Check the solution against the data.\n",
    "print('Comparing k-means clusters against the data:')\n",
    "print(pd.crosstab(y_pred, y))\n",
    "print(classification_report(y, y_pred))"
   ]
  },
  {
   "cell_type": "code",
   "execution_count": null,
   "metadata": {},
   "outputs": [],
   "source": []
  },
  {
   "cell_type": "code",
   "execution_count": null,
   "metadata": {},
   "outputs": [],
   "source": []
  }
 ],
 "metadata": {
  "kernelspec": {
   "display_name": "Python 3",
   "language": "python",
   "name": "python3"
  },
  "language_info": {
   "codemirror_mode": {
    "name": "ipython",
    "version": 3
   },
   "file_extension": ".py",
   "mimetype": "text/x-python",
   "name": "python",
   "nbconvert_exporter": "python",
   "pygments_lexer": "ipython3",
   "version": "3.7.4"
  }
 },
 "nbformat": 4,
 "nbformat_minor": 4
}
